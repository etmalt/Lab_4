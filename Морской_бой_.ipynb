{
  "cells": [
    {
      "cell_type": "code",
      "execution_count": 63,
      "metadata": {
        "id": "OF7TGR_f5IBe"
      },
      "outputs": [],
      "source": [
        "import numpy as np\n",
        "import random\n",
        "ships_number = 3 # состоит из кортежей использованных координат(принимает их в каждой итерации)\n",
        "tries = random.randint(3, 8)\n",
        "your_win = False"
      ]
    },
    {
      "cell_type": "code",
      "execution_count": 64,
      "metadata": {
        "id": "LynC_PPpEnZ5"
      },
      "outputs": [],
      "source": [
        "def initialize_field():\n",
        "  field = np.zeros((3, 3))\n",
        "  return field\n"
      ]
    },
    {
      "cell_type": "code",
      "execution_count": 67,
      "metadata": {
        "id": "jmoIz4ueF7Qz"
      },
      "outputs": [],
      "source": [
        "def initialize_computer_places():\n",
        "    used_coordinats = []\n",
        "    counter = 0\n",
        "    comp_field = initialize_field()\n",
        "    while counter != ships_number:\n",
        "        i = random.randint(0, 2)\n",
        "        j = random.randint(0, 2)\n",
        "        if (i, j) not in used_coordinats:\n",
        "            comp_field[i, j] = 1\n",
        "            used_coordinats.append((i, j))\n",
        "            counter += 1\n",
        "        else:\n",
        "            continue\n",
        "    \n",
        "    return comp_field"
      ]
    },
    {
      "cell_type": "code",
      "execution_count": 76,
      "metadata": {
        "colab": {
          "base_uri": "https://localhost:8080/"
        },
        "id": "s6MwdhPJKb27",
        "outputId": "0ddede69-3bb7-422e-978e-25f335b34275"
      },
      "outputs": [
        {
          "output_type": "stream",
          "name": "stdout",
          "text": [
            "У вас 5 попыток\n",
            "Введите координаты выстрела через пробел: 1 0\n",
            "Вы попали!Корабль в точке (1, 0) потоплен\n",
            "У вас осталось 4 попыток\n",
            "Введите координаты выстрела через пробел: 0 0\n",
            "Вы не попали!\n",
            "У вас осталось 3 попыток\n",
            "Введите координаты выстрела через пробел: 2 0\n",
            "Вы не попали!\n",
            "У вас осталось 2 попыток\n",
            "Введите координаты выстрела через пробел: 1 2\n",
            "Вы не попали!\n",
            "У вас осталось 1 попыток\n",
            "Введите координаты выстрела через пробел: 2 2\n",
            "Вы не попали!\n",
            "У вас осталось 0 попыток\n",
            "Вы проиграли\n"
          ]
        }
      ],
      "source": [
        "# здесь игровой цикл\n",
        "# пользователь выбирает координаты и попадает(или нет) по ним\n",
        "print(f'У вас {tries} попыток')\n",
        "def game_cycle(ships_number, your_win):\n",
        "  comp_field = initialize_computer_places()\n",
        "  for counter in range(tries):\n",
        "    if ships_number == 0:\n",
        "      your_win = True\n",
        "      print('Veni, vidi, vici. Ура.')\n",
        "      break\n",
        "    i, j =  tuple(map(int, input(\"Введите координаты выстрела через пробел: \").split()))\n",
        "    if comp_field[i,j] == 1:\n",
        "      print(f'Вы попали!Корабль в точке {i, j} потоплен')\n",
        "      ships_number -= 1\n",
        "    else:\n",
        "      print('Вы не попали!')\n",
        "    print(f'У вас осталось {tries - counter-1} попыток')\n",
        "  if your_win == False:\n",
        "    print('Вы проиграли')\n",
        "\n",
        "game_cycle(ships_number, your_win)"
      ]
    }
  ],
  "metadata": {
    "colab": {
      "provenance": [],
      "authorship_tag": "ABX9TyPoU0WvZHCiLA8k/wHb4iOc"
    },
    "kernelspec": {
      "display_name": "Python 3",
      "name": "python3"
    },
    "language_info": {
      "name": "python"
    }
  },
  "nbformat": 4,
  "nbformat_minor": 0
}